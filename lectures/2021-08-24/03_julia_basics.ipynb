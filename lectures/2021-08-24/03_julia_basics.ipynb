{
 "cells": [
  {
   "cell_type": "markdown",
   "id": "57c21ba7-031c-425a-a8d8-1d6c281be24d",
   "metadata": {
    "slideshow": {
     "slide_type": "slide"
    },
    "tags": []
   },
   "source": [
    "# Julia Basics\n",
    "\n",
    "> Computational Analysis of Social Complexity\n",
    ">\n",
    "> Fall 2021, Spencer Lyon\n",
    "\n",
    "**Prerequisites**\n",
    "\n",
    "- Laptop or personal computer with internet connection\n",
    "\n",
    "**Outcomes**\n",
    "\n",
    "- Understand the main benefits and features of Julia\n",
    "- See how to define variables, functions, and types in Julia\n",
    "- Install commonly used packages for Graphs, DataFrames, Plotting and more\n",
    "\n",
    "**References**\n",
    "\n",
    "- [Packages and Software Enginering](https://julia.quantecon.org/more_julia/index.html) section of QuantEcon julia lectures"
   ]
  },
  {
   "cell_type": "markdown",
   "id": "e56681bf-542c-4bec-b507-75a88a975e9f",
   "metadata": {},
   "source": [
    "## What is Julia?\n",
    "\n",
    "- Julia is a relatively new programming language (first public release in 2012, 1.0 release in 2018)\n",
    "- General purpose, but specializes in numerical computation\n",
    "- Leverages advanced compiler technology to generate very efficient "
   ]
  }
 ],
 "metadata": {
  "kernelspec": {
   "display_name": "Julia 1.6.1",
   "language": "julia",
   "name": "julia-1.6"
  },
  "language_info": {
   "file_extension": ".jl",
   "mimetype": "application/julia",
   "name": "julia",
   "version": "1.6.2"
  }
 },
 "nbformat": 4,
 "nbformat_minor": 5
}
