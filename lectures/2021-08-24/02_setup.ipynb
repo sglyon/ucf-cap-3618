{
 "cells": [
  {
   "cell_type": "markdown",
   "id": "3047c5e8-dc4a-4b09-9429-c63e0697a7db",
   "metadata": {
    "slideshow": {
     "slide_type": "slide"
    },
    "tags": []
   },
   "source": [
    "# Environment Setup\n",
    "\n",
    "> Computational Analysis of Social Complexity\n",
    ">\n",
    "> Fall 2021, Spencer Lyon\n",
    "\n",
    "**Prerequisites**\n",
    "\n",
    "- Laptop or personal computer with internet connection\n",
    "\n",
    "**Outcomes**\n",
    "\n",
    "- Install Jupyter\n",
    "- Install Julia\n",
    "- Install Git\n",
    "- Setup GitHub\n",
    "- Download course materials repository\n",
    "\n",
    "**References**\n",
    "\n",
    "- Materials Repository: https://github.com/UCF-CAP-6318/lecture-materials (private)\n",
    "- QuantEcon lectures\n",
    "    - [Setting up Julia](https://julia.quantecon.org/getting_started_julia/getting_started.html)\n",
    "    - [Git, GitHub, Version Control](https://julia.quantecon.org/more_julia/version_control.html)\n",
    "    - [Julia tools and editors](https://julia.quantecon.org/more_julia/tools_editors.html)"
   ]
  },
  {
   "cell_type": "markdown",
   "id": "dcaaac3d-669e-468d-a361-90d0074b9932",
   "metadata": {
    "slideshow": {
     "slide_type": "slide"
    },
    "tags": []
   },
   "source": [
    "## Step 1: Setup Jupyter\n",
    "\n",
    "- Our first step will be to install Jupyter\n",
    "- Jupyter must be installed as a Python package\n",
    "- Reccomendation for installing Python is Miniconda\n",
    "\n",
    "> Note if you already have a working Python/Jupyter setup, please skip this step"
   ]
  },
  {
   "cell_type": "markdown",
   "id": "71f44fb1-eead-423c-940f-2c54b9810ba0",
   "metadata": {
    "slideshow": {
     "slide_type": "subslide"
    },
    "tags": []
   },
   "source": [
    "**Task**: \n",
    "\n",
    "Go to the [Miniconda](https://docs.conda.io/en/latest/miniconda.html) downloads page and download the version of miniconda3 (note the 3!) appropriate for your operating system\n",
    "\n",
    "Follow the instructions to install it\n"
   ]
  },
  {
   "cell_type": "markdown",
   "id": "421322a6-8c8f-48a1-a060-e40064327257",
   "metadata": {
    "slideshow": {
     "slide_type": "subslide"
    },
    "tags": []
   },
   "source": [
    "### Install Jupyter\n",
    "\n",
    "- With miniconda set up, next step is to install jupyter\n",
    "- We do this by opening a command prompt (terminal on Linux/OSX, on windows ) and running `conda install notebook jupyterlab`"
   ]
  },
  {
   "cell_type": "markdown",
   "id": "608e8706-e562-422e-a569-09850d64351a",
   "metadata": {
    "slideshow": {
     "slide_type": "subslide"
    },
    "tags": []
   },
   "source": [
    "**Task**\n",
    "\n",
    "Install the jupyter notebook and jupyterlab using the above commands"
   ]
  },
  {
   "cell_type": "markdown",
   "id": "28362e24-b66f-41d8-9866-5029a7f36d53",
   "metadata": {
    "slideshow": {
     "slide_type": "slide"
    },
    "tags": []
   },
   "source": [
    "## Step 2: Install Julia\n",
    "\n",
    "- Next we need to install Julia\n"
   ]
  },
  {
   "cell_type": "markdown",
   "id": "b27ce33e-bb46-41f0-9b98-488c88b70634",
   "metadata": {},
   "source": [
    "**Task**\n",
    "\n",
    "Download and install Julia, from [download page](http://julialang.org/downloads/) , accepting all default options"
   ]
  },
  {
   "cell_type": "markdown",
   "id": "1859a333-c811-4c73-98b9-45c0665cec04",
   "metadata": {},
   "source": [
    "## Step 3: Install IJulia.jl\n",
    "\n",
    "- With Julia installed we are now ready to install some Julia packages\n",
    "- The first package we'll be using is called IJulia\n",
    "- This is an implementaiton of a Jupyter kernel for Julia\n",
    "    - It let's us use Julia within Jupyter!\n"
   ]
  },
  {
   "cell_type": "markdown",
   "id": "ec72c482-d186-4245-90fa-57f5549fa208",
   "metadata": {},
   "source": [
    "**Task**\n",
    "\n",
    "Launch the Julia REPL (by typing `julia` from the Linux/OSX terminal prompt or using the start menu on Windows)\n",
    "\n",
    "At the `juila>` prompt, type `]`\n",
    "\n",
    "Prompt will switch to `(@v1.6) pkg> `\n",
    "\n",
    "Once there type `add IJulia` and press enter\n",
    "\n",
    "IJulia will be downloaded and installed on your machine"
   ]
  },
  {
   "cell_type": "markdown",
   "id": "d03779ad-a61a-42b9-9823-202a8cd42eb5",
   "metadata": {},
   "source": [
    "## Step 4: Install git\n",
    "\n",
    "- Git is a powerful version control system\n",
    "- We'll use it to manage files througout this course\n"
   ]
  },
  {
   "cell_type": "markdown",
   "id": "724470bc-78bf-4853-8bef-32fab7796221",
   "metadata": {},
   "source": [
    "**Task**\n",
    "\n",
    "Follow the instructions [here](https://git-scm.com/book/en/v2/Getting-Started-Installing-Git/) to install git\n",
    "\n",
    "*Optional*\n",
    "\n",
    "If you prefer to use a windowed application instead of the command line, you might be interested in GitHub Desktop. \n",
    "\n",
    "Check it out [here](https://desktop.github.com/) and install if you are interested"
   ]
  },
  {
   "cell_type": "markdown",
   "id": "1f2cdeef-54da-45dd-87b7-e21bd1fa5db9",
   "metadata": {},
   "source": [
    "## Step 5: Clone Materials Repo\n",
    "\n",
    "- The materials for this course can be found on GitHub at https://github.com/UCF-CAP-6318/lecture-materials\n",
    "- TODO: pick up here!"
   ]
  },
  {
   "cell_type": "code",
   "execution_count": null,
   "id": "cdb29eab-ae3d-4bdb-b7a3-9c043bfe297a",
   "metadata": {},
   "outputs": [],
   "source": []
  }
 ],
 "metadata": {
  "kernelspec": {
   "display_name": "Julia 1.6.1",
   "language": "julia",
   "name": "julia-1.6"
  },
  "language_info": {
   "file_extension": ".jl",
   "mimetype": "application/julia",
   "name": "julia",
   "version": "1.6.2"
  }
 },
 "nbformat": 4,
 "nbformat_minor": 5
}
