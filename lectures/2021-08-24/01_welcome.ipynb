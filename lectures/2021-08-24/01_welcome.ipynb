{
 "cells": [
  {
   "cell_type": "markdown",
   "id": "bb4dcb15-3f99-4c75-b070-69bef74c1b26",
   "metadata": {
    "slideshow": {
     "slide_type": "slide"
    },
    "tags": []
   },
   "source": [
    "# Welcome\n",
    "\n",
    "> Computational Analysis of Social Complexity\n",
    ">\n",
    "> Fall 2021, Spencer Lyon\n",
    "\n",
    "**Prerequisites**\n",
    "\n",
    "- None! Welcome\n",
    "\n",
    "**Outcomes**\n",
    "\n",
    "- Understand structure of the course\n",
    "\n",
    "**References**\n",
    "\n",
    "- Course Syllabus"
   ]
  },
  {
   "cell_type": "markdown",
   "id": "30078337-75ab-41b3-8250-367c99d39281",
   "metadata": {
    "slideshow": {
     "slide_type": "slide"
    },
    "tags": []
   },
   "source": [
    "## Overview"
   ]
  },
  {
   "cell_type": "markdown",
   "id": "af1848f2-1455-4fe8-a100-9348e4dedcb9",
   "metadata": {
    "slideshow": {
     "slide_type": "subslide"
    },
    "tags": []
   },
   "source": [
    "### About Me\n",
    "\n",
    "-   Spencer Lyon (spencer.lyon@ucf.edu)\n",
    "-   Economics PhD from NYU (2018)\n",
    "-   Love to teach: mostly economics, data science, AI/ML – all have\n",
    "    programming/computational element\n",
    "-   Lived in Orlando since July 2018 with wife and 5 (yes!) kids\n",
    "-   Run consulting business (Valorum Data)\n",
    "-   Working on a couple startups: ExtraDough and Coinsul\n",
    "-   Most importantly…"
   ]
  },
  {
   "cell_type": "markdown",
   "id": "a4fec3d1-26ed-4a1a-b0d5-cc4fe4da8254",
   "metadata": {
    "slideshow": {
     "slide_type": "fragment"
    },
    "tags": []
   },
   "source": [
    "-   Our GA Ramya (she's awesome!)"
   ]
  },
  {
   "cell_type": "markdown",
   "id": "e4dcc3e9-7697-4b46-9494-5e1eff2edb0f",
   "metadata": {
    "slideshow": {
     "slide_type": "subslide"
    },
    "tags": []
   },
   "source": [
    "### About you\n",
    "\n",
    "-   Background?\n",
    "-   Progress in program?\n",
    "-   Areas of interest? (meaningful answers here! they matter…)\n",
    "-   Hope for course TODO: keep this?\n"
   ]
  },
  {
   "cell_type": "markdown",
   "id": "166d8073-506a-4c62-8e5f-e4820ddd98ba",
   "metadata": {
    "slideshow": {
     "slide_type": "subslide"
    },
    "tags": []
   },
   "source": [
    "### About the course\n",
    "\n",
    "-   Interdisciplinary by nature\n",
    "-   \"Living course\": never been taught, content is flexible\n",
    "    -   More ideas/topics than time!"
   ]
  },
  {
   "cell_type": "markdown",
   "id": "c502ccfc-c16b-47a1-a3a1-da97bed1d9c0",
   "metadata": {
    "slideshow": {
     "slide_type": "fragment"
    },
    "tags": []
   },
   "source": [
    "-   Theoretical concepts\n",
    "    -   Graphs: less detail than network science course\n",
    "    -   Game Theory: strategic interaction/competition\n",
    "    -   Social, information, financial networks"
   ]
  },
  {
   "cell_type": "markdown",
   "id": "7671433f-a962-4ece-b050-04d8bfde1c87",
   "metadata": {
    "slideshow": {
     "slide_type": "fragment"
    },
    "tags": []
   },
   "source": [
    "-   Applications\n",
    "    -   Twitter\n",
    "    - Economic markets and trade\n",
    "    -   Blockchain: financial network as public ledger\n",
    "    -   Smart contracts: financial interactions as code on blockchain\n",
    "        network\n",
    "    - More..."
   ]
  },
  {
   "cell_type": "markdown",
   "id": "3867bf7b-fe5f-438f-bbc9-b41558df6325",
   "metadata": {
    "slideshow": {
     "slide_type": "slide"
    },
    "tags": []
   },
   "source": [
    "### Expectations\n",
    "\n",
    "-   Study reading assignments before class\n",
    "-   Complete assignments on time\n",
    "-   Participate in in-class *discussions*\n",
    "-   Deliverables\n",
    "    -   Homework (5 – 30%)\n",
    "    -   Quiz (1 – 30%)\n",
    "    -   Project (1 – 40%)"
   ]
  },
  {
   "cell_type": "markdown",
   "id": "68bca4ae-a634-4740-b8df-04db2c6fb46f",
   "metadata": {},
   "source": [
    "### Tools/Resources\n",
    "\n",
    "- Core textbook: https://www.cs.cornell.edu/home/kleinber/networks-book/\n",
    "    - Will be supplemented by lecture notes for more computational content\n",
    "- [Julia](https://julialang.org/) Programming language\n",
    "- Lecture notes AND assignments in [Jupyter notebooks](https://jupyter.org/)\n",
    "- Material distribution and homework submission via [GitHub](https://github.com/) and [GitHub Classroom](https://classroom.github.com/classrooms)"
   ]
  },
  {
   "cell_type": "code",
   "execution_count": null,
   "id": "62146163-7b15-42fa-9943-b41912d3a3cc",
   "metadata": {},
   "outputs": [],
   "source": []
  }
 ],
 "metadata": {
  "kernelspec": {
   "display_name": "Julia 1.6.1",
   "language": "julia",
   "name": "julia-1.6"
  },
  "language_info": {
   "file_extension": ".jl",
   "mimetype": "application/julia",
   "name": "julia",
   "version": "1.6.2"
  }
 },
 "nbformat": 4,
 "nbformat_minor": 5
}
