{
  "cells": [
    {
      "cell_type": "markdown",
      "metadata": {
        "slideshow": {
          "slide_type": "subslide"
        }
      },
      "source": [
        "# Network Traffic with Game Theory\n",
        "\n",
        "> Computational Analysis of Social Complexity\n",
        ">\n",
        "> Fall 2021, Spencer Lyon\n",
        "\n",
        "**Prerequisites**\n",
        "\n",
        "- Networks\n",
        "- Game Theory\n",
        "\n",
        "**Outcomes**\n",
        "\n",
        "- Represent network traffic weighted DiGraph\n",
        "- Analyze equilibrium network outcomes using the concept of Nash Equilibirum\n",
        "- Understand Braes' paradox\n",
        "- Learn about the concept of social welfare and a social planners\n",
        "\n",
        "\n",
        "**References**\n",
        "\n",
        "- [Easley and Kleinberg](https://www.cs.cornell.edu/home/kleinber/networks-book/) chapter 8\n",
        ""
      ]
    },
    {
      "cell_type": "markdown",
      "metadata": {
        "slideshow": {
          "slide_type": "subslide"
        }
      },
      "source": [
        "# Congestion\n",
        "\n",
        "- We regularly use physical networks of all kinds\n",
        "  - Power grids\n",
        "  - The internet\n",
        "  - Streets\n",
        "  - Railroads\n",
        "- What happens when the networks get congested?\n",
        "  - Typically -- flow across the network slows down\n",
        "- Today we'll study how game theoretic ideas are helpful when analyzing how a network with finite capacity or increasing costs\n",
        ""
      ]
    },
    {
      "cell_type": "markdown",
      "metadata": {
        "slideshow": {
          "slide_type": "subslide"
        }
      },
      "source": [
        "# A Traffic Network\n",
        "\n",
        "- We'll start by considering a traffic network\n",
        "- The figure caption has extra detail -- so be sure to read it!\n",
        ""
      ]
    },
    {
      "cell_type": "code",
      "execution_count": null,
      "metadata": {},
      "outputs": [],
      "source": [
        "Resource(\"https://github.com/sglyon/ucf-cap-6318/raw/Fall21/notebooks/week05/traffic_graph.png\")"
      ]
    },
    {
      "cell_type": "markdown",
      "metadata": {
        "slideshow": {
          "slide_type": "subslide"
        }
      },
      "source": [
        "- We'll write up some helper Julia functions that will let us create and visualize the traffic network for arbitrary values of x\n",
        ""
      ]
    },
    {
      "cell_type": "code",
      "execution_count": null,
      "metadata": {},
      "outputs": [],
      "source": [
        "using LightGraphs, SimpleWeightedGraphs, GraphPlot"
      ]
    },
    {
      "cell_type": "code",
      "execution_count": null,
      "metadata": {},
      "outputs": [],
      "source": [
        "function traffic_graph1(x)\n",
        "\tA = [\n",
        "\t\t0 0 x/100 45;\n",
        "\t\t0 0 0 0;\n",
        "\t\t0 45 0 0;\n",
        "\t\t0 x/100 0 0\n",
        "\t\t]\n",
        "\tSimpleWeightedDiGraph(A)\n",
        "end"
      ]
    },
    {
      "cell_type": "code",
      "execution_count": null,
      "metadata": {},
      "outputs": [],
      "source": [
        "function plot_traffic_graph(g::SimpleWeightedDiGraph)\n",
        "\tlocs_x = [1.0, 3, 2, 2]\n",
        "\tlocs_y = [1.0, 1, 0, 2]\n",
        "\tlabels = collect('A':'Z')[1:nv(g)]\n",
        "\tgplot(g, locs_x, locs_y, nodelabel=labels, edgelabel=weight.(edges(g)))\n",
        "end"
      ]
    },
    {
      "cell_type": "code",
      "execution_count": null,
      "metadata": {},
      "outputs": [],
      "source": [
        "@bind x Slider(10:10:4000, default=500, show_value=true)"
      ]
    },
    {
      "cell_type": "code",
      "execution_count": null,
      "metadata": {},
      "outputs": [],
      "source": [
        "plot_traffic_graph(traffic_graph1(x))"
      ]
    },
    {
      "cell_type": "markdown",
      "metadata": {
        "slideshow": {
          "slide_type": "subslide"
        }
      },
      "source": [
        "- Play around with the slider and watch the weights on our graph change\n",
        ""
      ]
    },
    {
      "cell_type": "markdown",
      "metadata": {
        "slideshow": {
          "slide_type": "subslide"
        }
      },
      "source": [
        "## The Game\n",
        "\n",
        "- Now suppose, as indicated in the figure caption, that we have 4,000 drivers that need to commute from A to B in the morning\n",
        "- If all take the upper route (A-C-B) we get a total time of 40 + 45 = 85 minutes\n",
        "- If all take the lower route (A-D-B) we get a total time of 40 + 45 = 85 minutes\n",
        "- If, however, they evenly divide we get a total time of 20 + 45 = 65 minutes\n",
        "\n",
        ""
      ]
    },
    {
      "cell_type": "markdown",
      "metadata": {
        "slideshow": {
          "slide_type": "subslide"
        }
      },
      "source": [
        "## Equilibrium\n",
        "\n",
        "- Recall that for a set of strategies (here driving paths) to be a Nash Equilibrium, each player's strategy must be a best response to the strategy of all other players\n",
        "- We'll argue that the only NE of this commuting game is that 2,000 drivers take (A-C-B) and 2,000 take (A-D-B) and everyone takes 65 mintues to commute\n",
        "\n",
        ""
      ]
    },
    {
      "cell_type": "markdown",
      "metadata": {
        "slideshow": {
          "slide_type": "subslide"
        }
      },
      "source": [
        "## Exercise\n",
        "\n",
        "- Show that this strategy (2,000 drivers take (A-C-B) and 2,000 take (A-D-B)) is indeed a Nash equilibrium\n",
        "- To do this recognize that the game is symmetric for all drivers\n",
        "- Then, argue that if 3,999 drivers are following that strategy, the best response for the last driver is also to follow the strategy \n",
        ""
      ]
    },
    {
      "cell_type": "markdown",
      "metadata": {
        "slideshow": {
          "slide_type": "subslide"
        }
      },
      "source": [
        "- Your work HERE!\n",
        ""
      ]
    },
    {
      "cell_type": "markdown",
      "metadata": {
        "slideshow": {
          "slide_type": "subslide"
        }
      },
      "source": [
        "## Discussion\n",
        "\n",
        "- Note a powerful outcome here -- without any coordination by a central authority, drivers  will automatically balance perfectly in equilibrium\n",
        "- The only assumptions we made were:\n",
        "  1. Drivers want to minimize driving time\n",
        "  2. Drivers are allowed to respond to the decisions of others\n",
        "- The first assumption is very plausable -- nobody wants to sit in more traffic than necessary\n",
        "- The second highlights a key facet of our modern society...\n",
        "  - Information availability (here decisions of other drivers) can (and does!) lead to optimal outcomes without the need for further regulation or policing\n",
        ""
      ]
    },
    {
      "cell_type": "markdown",
      "metadata": {
        "slideshow": {
          "slide_type": "subslide"
        }
      },
      "source": [
        "# Adding a \"warp tunnel\"\n",
        "\n",
        "- Now suppose that we modify the network and add a new edge between C-D that has **zero cost**\n",
        "- Effectively we add a wormhole that connects C to D\n",
        ""
      ]
    },
    {
      "cell_type": "code",
      "execution_count": null,
      "metadata": {},
      "outputs": [],
      "source": [
        "function traffic_graph2(x)\n",
        "\tG = traffic_graph1(x)\n",
        "\t# need to add an edge with minimal weight so it shows up in plot\n",
        "\tadd_edge!(G, 3, 4, 1e-16)\n",
        "\tG\n",
        "end"
      ]
    },
    {
      "cell_type": "code",
      "execution_count": null,
      "metadata": {},
      "outputs": [],
      "source": [
        "@bind x2 Slider(10:10:4000, default=500, show_value=true)"
      ]
    },
    {
      "cell_type": "code",
      "execution_count": null,
      "metadata": {},
      "outputs": [],
      "source": [
        "plot_traffic_graph(traffic_graph2(x2))"
      ]
    },
    {
      "cell_type": "markdown",
      "metadata": {
        "slideshow": {
          "slide_type": "subslide"
        }
      },
      "source": [
        "## Exercise\n",
        "\n",
        "- Is a 50/50 split of traffic still a Nash equilibrium in this case?\n",
        "- Why or why not?\n",
        "- Is all 4,000 drivers doing (A-C-D-B) a Nash equilibrium?\n",
        "- Why or why not?\n",
        ""
      ]
    },
    {
      "cell_type": "markdown",
      "metadata": {
        "slideshow": {
          "slide_type": "subslide"
        }
      },
      "source": [
        "## Braes' Paradox\n",
        "\n",
        "- In the previous exercise, we saw a rather startling result...\n",
        "- Doing a network \"upgrade\" -- adding a wormhole connecting C and D -- resulted in a *worse* equilibrium outcome for everyone!\n",
        "- The equilbirum driving time is now 80 mintues for all drivers instead of 65 minutes (which was the case before the wormhole)\n",
        "- This is known as Braes' paradox\n",
        ""
      ]
    },
    {
      "cell_type": "markdown",
      "metadata": {
        "slideshow": {
          "slide_type": "subslide"
        }
      },
      "source": [
        "## Follow ups\n",
        "\n",
        "- Braes' paradox was the starting point for a large body of research on using game theory to analyze network traffic\n",
        "- Some questions that have been asked are:\n",
        "  - How much larger can equilibirum travel time increase after a network upgrade?\n",
        "  - How can network upgrade be designed to be resilient to Braes' paradox?\n",
        ""
      ]
    },
    {
      "cell_type": "markdown",
      "metadata": {
        "slideshow": {
          "slide_type": "subslide"
        }
      },
      "source": [
        "# Social Welfare\n",
        "\n",
        "- Many economic models are composed of individual actors who make autonomous decisions and have autonomous payoffs\n",
        "- We've been studying some of these settings using tools from game theory, focusing on the *individual* perspective\n",
        "  - Our notion of equilibrium is dependent on no individual wanting to change strategy in response to other strategies\n",
        "- Another form of analysis works at the macro level -- we analyze the **total** payoff for all agents (i.e. sum of payoffs)\n",
        "- We call this aggregate payoff **social welfare**\n",
        ""
      ]
    },
    {
      "cell_type": "markdown",
      "metadata": {
        "slideshow": {
          "slide_type": "subslide"
        }
      },
      "source": [
        "## The Social Planner\n",
        "\n",
        "- In an economic model, someone who seeks to maximize social welfare is called a *social planner*\n",
        "- A social planner is given the authority to make decisions for all agents\n",
        "- In our traffic model, a social planner would choose to ignore the wormhole and have 1/2 the drivers take A-C-B and the other half take A-D-B\n",
        "  - In this case everyone would be better off with a cost of 65 minutes instead of the equilibrium 80 minutes\n",
        ""
      ]
    },
    {
      "cell_type": "markdown",
      "metadata": {
        "slideshow": {
          "slide_type": "subslide"
        }
      },
      "source": [
        "## Cost of Freedom\n",
        "\n",
        "- Question: in a generic traffic model, how much *worse* can the equilibrium outcome be than the social optimium?\n",
        "- In our example, \n",
        "  - Optimal social welfare is 4000 * 65 = $(4000*65)\n",
        "  - Equilibrium social welfare is 4000 * 80 = $(4000*80)\n",
        "  - A change of $(4000*15)\n",
        "- To answer this question for a general traffic model, we need to be able to compute the equilibrium for a generic traffic model\n",
        "- We may study this next week, or perhaps even on your homework 😉\n",
        ""
      ]
    },
    {
      "cell_type": "markdown",
      "metadata": {
        "slideshow": {
          "slide_type": "subslide"
        }
      },
      "source": [
        "## Dependencies\n",
        ""
      ]
    },
    {
      "cell_type": "code",
      "execution_count": null,
      "metadata": {},
      "outputs": [],
      "source": [
        "using PlutoUI"
      ]
    },
    {
      "cell_type": "code",
      "execution_count": null,
      "metadata": {},
      "outputs": [],
      "source": [
        "hint(text) = begin\n        #= none:2 =#\n        Markdown.MD(Markdown.Admonition(\"hint\", \"Hint\", [text]))\n    end\n",
        "almost(text) = begin\n        #= none:4 =#\n        Markdown.MD(Markdown.Admonition(\"warning\", \"Almost there!\", [text]))\n    end\n",
        "still_missing(text = md\"Replace `missing` with your answer.\") = begin\n        #= none:6 =#\n        Markdown.MD(Markdown.Admonition(\"warning\", \"Here we go!\", [text]))\n    end\n",
        "keep_working(text = md\"The answer is not quite right.\") = begin\n        #= none:8 =#\n        Markdown.MD(Markdown.Admonition(\"danger\", \"Keep working on it!\", [text]))\n    end\n",
        "yays = [md\"Fantastic!\", md\"Splendid!\", md\"Great!\", md\"Yay ❤\", md\"Great! 🎉\", md\"Well done!\", md\"Keep it up!\", md\"Good job!\", md\"Awesome!\", md\"You got the right answer!\", md\"Let's move on to the next section.\"]\n",
        "correct(text = rand(yays)) = begin\n        #= none:12 =#\n        Markdown.MD(Markdown.Admonition(\"correct\", \"Got it!\", [text]))\n    end\n",
        "not_defined(variable_name) = begin\n        #= none:14 =#\n        Markdown.MD(Markdown.Admonition(\"danger\", \"Oopsie!\", [md\"Make sure that you define a variable called **$(Markdown.Code(string(variable_name)))**\"]))\n    end\n",
        "check_number(have::Int, want::Int) = begin\n        #= none:16 =#\n        have == want\n    end\n",
        "(check_number(have::T, want::T) where T <: AbstractFloat) = begin\n        #= none:17 =#\n        abs(want - have) < 1.0e-10\n    end\n",
        "check_number(have::Array, want::Array) = begin\n        #= none:18 =#\n        if length(have) == length(want)\n            all(check_number.(have, want))\n        else\n            false\n        end\n    end\n",
        "check_number(have::Tuple, want::Tuple) = begin\n        #= none:19 =#\n        all(check_number.(have, want))\n    end\n",
        "function default_checks(vname, have, want)\n    #= none:21 =#\n    #= none:22 =#\n    if ismissing(have) || isnothing(have)\n        #= none:23 =#\n        still_missing(Markdown.MD(Markdown.Paragraph([\"Make sure to compute a value for \", Markdown.Code(vname)])))\n    elseif #= none:27 =# typeof(have) != typeof(want)\n        #= none:28 =#\n        keep_working(Markdown.MD(Markdown.Paragraph([Markdown.Code(vname), \"should be a $(typeof(want)), found $(typeof(have))\"])))\n    else\n        #= none:33 =#\n        if !(check_number(have, want))\n            #= none:34 =#\n            keep_working(Markdown.MD(Markdown.Paragraph([Markdown.Code(vname), \"is not quite right\"])))\n        else\n            #= none:39 =#\n            correct()\n        end\n    end\nend\n",
        "nothing"
      ]
    }
  ],
  "metadata": {
    "celltoolbar": "Slideshow",
    "kernelspec": {
      "display_name": "Julia 1.8.0",
      "language": "julia",
      "name": "julia-1.8"
    },
    "language_info": {
      "file_extension": ".jl",
      "mimetype": "application/julia",
      "name": "julia",
      "version": "1.8.1"
    }
  },
  "nbformat": 4,
  "nbformat_minor": 2
}
